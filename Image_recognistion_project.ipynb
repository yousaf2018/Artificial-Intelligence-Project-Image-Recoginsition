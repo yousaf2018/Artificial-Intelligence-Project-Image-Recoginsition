{
 "cells": [
  {
   "cell_type": "code",
   "execution_count": 93,
   "metadata": {},
   "outputs": [],
   "source": [
    "#Using matplotlib for image loading and ploting\n",
    "#Using numpy library to manipulate images\n",
    "from matplotlib import pyplot\n",
    "import numpy as np"
   ]
  },
  {
   "cell_type": "code",
   "execution_count": 94,
   "metadata": {},
   "outputs": [],
   "source": [
    "groupImage = pyplot.imread(\"groupGray.jpg\")\n",
    "baba_g = pyplot.imread(\"boothiGray.jpg\")"
   ]
  },
  {
   "cell_type": "code",
   "execution_count": 95,
   "metadata": {},
   "outputs": [],
   "source": [
    "#Getting height and width of both images for template matching\n",
    "shape_baba_image = baba_g.shape\n",
    "shape_group_image = groupImage.shape\n",
    "height_baba_image = shape_baba_image[0]\n",
    "width_baba_image = shape_baba_image[1]\n",
    "height_group_image = shape_group_image[0]\n",
    "width_group_image = shape_group_image[1]"
   ]
  },
  {
   "cell_type": "code",
   "execution_count": 102,
   "metadata": {},
   "outputs": [
    {
     "data": {
      "text/plain": [
       "35"
      ]
     },
     "execution_count": 102,
     "metadata": {},
     "output_type": "execute_result"
    }
   ],
   "source": [
    "#Generating random numbers for 50 population\n",
    "random_50_height_group_image = np.random.randint(0,height_group_image+1,50)\n",
    "random_50_width_group_image = np.random.randint(0,width_group_image+1,50)\n",
    "height_baba_image"
   ]
  },
  {
   "cell_type": "code",
   "execution_count": 130,
   "metadata": {},
   "outputs": [
    {
     "name": "stdout",
     "output_type": "stream",
     "text": [
      "(35, 29)\n",
      "(35, 29)\n",
      "(35, 29)\n",
      "(35, 29)\n",
      "(35, 29)\n",
      "(35, 29)\n",
      "(35, 29)\n",
      "(35, 29)\n",
      "(35, 29)\n",
      "(35, 29)\n",
      "(35, 29)\n",
      "(35, 29)\n",
      "(35, 29)\n",
      "(35, 29)\n",
      "(35, 29)\n",
      "(35, 29)\n",
      "(35, 29)\n",
      "(35, 29)\n",
      "(35, 29)\n",
      "(35, 29)\n",
      "(35, 29)\n",
      "(35, 29)\n",
      "(35, 29)\n",
      "(35, 29)\n",
      "(35, 29)\n",
      "(35, 29)\n",
      "(35, 29)\n",
      "(35, 29)\n",
      "(35, 29)\n",
      "(35, 29)\n",
      "(35, 29)\n",
      "(35, 29)\n",
      "(35, 29)\n",
      "(35, 29)\n",
      "(35, 29)\n",
      "(35, 29)\n",
      "(35, 29)\n",
      "(35, 29)\n",
      "(35, 29)\n",
      "(35, 29)\n",
      "(35, 29)\n",
      "(35, 29)\n",
      "(35, 29)\n",
      "(35, 29)\n",
      "(35, 29)\n",
      "(35, 29)\n",
      "(35, 29)\n",
      "(35, 29)\n",
      "(35, 29)\n",
      "(35, 29)\n",
      "1015\n"
     ]
    }
   ],
   "source": [
    "#Slicing 50 population of same shape as baba g shape\n",
    "slices_50 = []\n",
    "for i in range(50):\n",
    "    #checking slice height is it out side group image \n",
    "    random_height = random_50_height_group_image[i]\n",
    "    check_height = height_group_image - random_height\n",
    "    if check_height>=height_baba_image:\n",
    "        random_width = random_50_width_group_image[i]\n",
    "        check_width = width_group_image - random_width\n",
    "        if check_width>=width_baba_image:\n",
    "            temp_slice = groupImage[random_50_height_group_image[i]:random_50_height_group_image[i]+height_baba_image,\n",
    "                                   random_50_width_group_image[i]:random_50_width_group_image[i]+width_baba_image]\n",
    "            print(temp_slice.shape)\n",
    "            slices_50.append(temp_slice)\n",
    "        else:\n",
    "            width = width_group_image-width_baba_image\n",
    "            temp_slice = groupImage[random_50_height_group_image[i]:random_50_height_group_image[i]+height_baba_image,\n",
    "                                    width:width+width_baba_image]\n",
    "            print(temp_slice.shape)\n",
    "            slices_50.append(temp_slice)\n",
    "            \n",
    "    else:\n",
    "        height = height_group_image-height_baba_image\n",
    "        random_width = random_50_width_group_image[i]\n",
    "        check_width = width_group_image - random_width\n",
    "        if check_width>=width_baba_image:\n",
    "            temp_slice = groupImage[height:height+height_baba_image,\n",
    "                                   random_50_width_group_image[i]:random_50_width_group_image[i]+width_baba_image]\n",
    "            print(temp_slice.shape)\n",
    "            slices_50.append(temp_slice)\n",
    "        else:\n",
    "            width = width_group_image-width_baba_image\n",
    "            temp_slice = groupImage[height:height+height_baba_image,\n",
    "                                    width:width+width_baba_image]\n",
    "            print(temp_slice.shape)\n",
    "            slices_50.append(temp_slice)\n",
    "hi = slices_50[49]\n",
    "print(hi.size)"
   ]
  },
  {
   "cell_type": "code",
   "execution_count": 132,
   "metadata": {},
   "outputs": [],
   "source": [
    "Fitness = np.corrcoef(baba_g.flatten(),hi.flatten())"
   ]
  },
  {
   "cell_type": "code",
   "execution_count": 133,
   "metadata": {},
   "outputs": [
    {
     "data": {
      "text/plain": [
       "array([[ 1.        , -0.26073174],\n",
       "       [-0.26073174,  1.        ]])"
      ]
     },
     "execution_count": 133,
     "metadata": {},
     "output_type": "execute_result"
    }
   ],
   "source": [
    "Fitness"
   ]
  },
  {
   "cell_type": "code",
   "execution_count": null,
   "metadata": {},
   "outputs": [],
   "source": []
  },
  {
   "cell_type": "code",
   "execution_count": null,
   "metadata": {},
   "outputs": [],
   "source": []
  },
  {
   "cell_type": "code",
   "execution_count": null,
   "metadata": {},
   "outputs": [],
   "source": []
  },
  {
   "cell_type": "code",
   "execution_count": null,
   "metadata": {},
   "outputs": [],
   "source": []
  },
  {
   "cell_type": "code",
   "execution_count": null,
   "metadata": {},
   "outputs": [],
   "source": []
  },
  {
   "cell_type": "code",
   "execution_count": null,
   "metadata": {},
   "outputs": [],
   "source": []
  },
  {
   "cell_type": "code",
   "execution_count": null,
   "metadata": {},
   "outputs": [],
   "source": []
  },
  {
   "cell_type": "code",
   "execution_count": null,
   "metadata": {},
   "outputs": [],
   "source": []
  },
  {
   "cell_type": "code",
   "execution_count": null,
   "metadata": {},
   "outputs": [],
   "source": []
  },
  {
   "cell_type": "code",
   "execution_count": null,
   "metadata": {},
   "outputs": [],
   "source": []
  },
  {
   "cell_type": "code",
   "execution_count": null,
   "metadata": {},
   "outputs": [],
   "source": []
  },
  {
   "cell_type": "code",
   "execution_count": null,
   "metadata": {},
   "outputs": [],
   "source": []
  },
  {
   "cell_type": "code",
   "execution_count": null,
   "metadata": {},
   "outputs": [],
   "source": []
  },
  {
   "cell_type": "code",
   "execution_count": null,
   "metadata": {},
   "outputs": [],
   "source": []
  },
  {
   "cell_type": "code",
   "execution_count": null,
   "metadata": {},
   "outputs": [],
   "source": []
  },
  {
   "cell_type": "code",
   "execution_count": null,
   "metadata": {},
   "outputs": [],
   "source": []
  },
  {
   "cell_type": "code",
   "execution_count": null,
   "metadata": {},
   "outputs": [],
   "source": []
  },
  {
   "cell_type": "code",
   "execution_count": null,
   "metadata": {},
   "outputs": [],
   "source": []
  },
  {
   "cell_type": "code",
   "execution_count": null,
   "metadata": {},
   "outputs": [],
   "source": []
  },
  {
   "cell_type": "code",
   "execution_count": null,
   "metadata": {},
   "outputs": [],
   "source": []
  },
  {
   "cell_type": "code",
   "execution_count": null,
   "metadata": {},
   "outputs": [],
   "source": []
  },
  {
   "cell_type": "code",
   "execution_count": null,
   "metadata": {},
   "outputs": [],
   "source": []
  },
  {
   "cell_type": "code",
   "execution_count": null,
   "metadata": {},
   "outputs": [],
   "source": []
  },
  {
   "cell_type": "code",
   "execution_count": null,
   "metadata": {},
   "outputs": [],
   "source": []
  },
  {
   "cell_type": "code",
   "execution_count": null,
   "metadata": {},
   "outputs": [],
   "source": []
  },
  {
   "cell_type": "code",
   "execution_count": null,
   "metadata": {},
   "outputs": [],
   "source": []
  },
  {
   "cell_type": "code",
   "execution_count": null,
   "metadata": {},
   "outputs": [],
   "source": []
  },
  {
   "cell_type": "code",
   "execution_count": null,
   "metadata": {},
   "outputs": [],
   "source": []
  },
  {
   "cell_type": "code",
   "execution_count": null,
   "metadata": {},
   "outputs": [],
   "source": []
  },
  {
   "cell_type": "code",
   "execution_count": null,
   "metadata": {},
   "outputs": [],
   "source": []
  },
  {
   "cell_type": "code",
   "execution_count": null,
   "metadata": {},
   "outputs": [],
   "source": []
  },
  {
   "cell_type": "code",
   "execution_count": null,
   "metadata": {},
   "outputs": [],
   "source": []
  },
  {
   "cell_type": "code",
   "execution_count": null,
   "metadata": {},
   "outputs": [],
   "source": []
  },
  {
   "cell_type": "code",
   "execution_count": null,
   "metadata": {},
   "outputs": [],
   "source": []
  },
  {
   "cell_type": "code",
   "execution_count": null,
   "metadata": {},
   "outputs": [],
   "source": [
    "\n"
   ]
  },
  {
   "cell_type": "code",
   "execution_count": null,
   "metadata": {},
   "outputs": [],
   "source": [
    "\n"
   ]
  },
  {
   "cell_type": "code",
   "execution_count": null,
   "metadata": {},
   "outputs": [],
   "source": [
    "\n"
   ]
  },
  {
   "cell_type": "code",
   "execution_count": null,
   "metadata": {},
   "outputs": [],
   "source": [
    "\n"
   ]
  },
  {
   "cell_type": "code",
   "execution_count": null,
   "metadata": {},
   "outputs": [],
   "source": [
    "\n"
   ]
  },
  {
   "cell_type": "code",
   "execution_count": null,
   "metadata": {},
   "outputs": [],
   "source": [
    "\n"
   ]
  },
  {
   "cell_type": "code",
   "execution_count": null,
   "metadata": {},
   "outputs": [],
   "source": [
    "\n"
   ]
  },
  {
   "cell_type": "code",
   "execution_count": null,
   "metadata": {},
   "outputs": [],
   "source": [
    "\n"
   ]
  },
  {
   "cell_type": "code",
   "execution_count": null,
   "metadata": {},
   "outputs": [],
   "source": [
    "\n"
   ]
  },
  {
   "cell_type": "code",
   "execution_count": null,
   "metadata": {},
   "outputs": [],
   "source": [
    "\n"
   ]
  },
  {
   "cell_type": "code",
   "execution_count": null,
   "metadata": {},
   "outputs": [],
   "source": [
    "\n"
   ]
  },
  {
   "cell_type": "code",
   "execution_count": null,
   "metadata": {},
   "outputs": [],
   "source": [
    "\n"
   ]
  },
  {
   "cell_type": "code",
   "execution_count": null,
   "metadata": {},
   "outputs": [],
   "source": [
    "\n"
   ]
  },
  {
   "cell_type": "code",
   "execution_count": null,
   "metadata": {},
   "outputs": [],
   "source": [
    "\n",
    "    "
   ]
  },
  {
   "cell_type": "code",
   "execution_count": null,
   "metadata": {},
   "outputs": [],
   "source": []
  },
  {
   "cell_type": "code",
   "execution_count": null,
   "metadata": {},
   "outputs": [],
   "source": []
  },
  {
   "cell_type": "code",
   "execution_count": null,
   "metadata": {},
   "outputs": [],
   "source": []
  },
  {
   "cell_type": "code",
   "execution_count": null,
   "metadata": {},
   "outputs": [],
   "source": []
  },
  {
   "cell_type": "code",
   "execution_count": null,
   "metadata": {},
   "outputs": [],
   "source": []
  },
  {
   "cell_type": "code",
   "execution_count": null,
   "metadata": {},
   "outputs": [],
   "source": []
  },
  {
   "cell_type": "code",
   "execution_count": null,
   "metadata": {},
   "outputs": [],
   "source": []
  },
  {
   "cell_type": "code",
   "execution_count": null,
   "metadata": {},
   "outputs": [],
   "source": []
  }
 ],
 "metadata": {
  "kernelspec": {
   "display_name": "Python 3",
   "language": "python",
   "name": "python3"
  },
  "language_info": {
   "codemirror_mode": {
    "name": "ipython",
    "version": 3
   },
   "file_extension": ".py",
   "mimetype": "text/x-python",
   "name": "python",
   "nbconvert_exporter": "python",
   "pygments_lexer": "ipython3",
   "version": "3.7.4"
  }
 },
 "nbformat": 4,
 "nbformat_minor": 2
}
